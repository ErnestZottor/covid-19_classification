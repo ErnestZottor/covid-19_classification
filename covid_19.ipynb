{
 "cells": [
  {
   "cell_type": "code",
   "execution_count": 24,
   "id": "dd59229e",
   "metadata": {},
   "outputs": [],
   "source": [
    "import tensorflow as tf\n",
    "from tensorflow import keras\n",
    "from tensorflow.keras.models import Sequential\n",
    "from tensorflow.keras.preprocessing.image import ImageDataGenerator\n",
    "\n",
    "from tensorflow.keras.callbacks import EarlyStopping\n",
    "from tensorflow.keras import layers\n",
    "\n",
    "import matplotlib.pyplot as plt\n",
    "import numpy\n",
    "\n"
   ]
  },
  {
   "cell_type": "code",
   "execution_count": null,
   "id": "05a21f8f",
   "metadata": {},
   "outputs": [],
   "source": [
    "\n",
    "directory = \"Covid19-dataset/train\"\n",
    "class_mode = \"categorical\"\n",
    "color_mode = \"grayscale\"\n",
    "target_size = (256, 256)\n",
    "batch_size = 32\n",
    "\n",
    "training_data_generator = ImageDataGenerator(\n",
    "        rescale=1./255,\n",
    "        zoom_range=0.2,\n",
    "        rotation_range=15,\n",
    "        width_shift_range=0.05,\n",
    "        height_shift_range=0.05\n",
    ")\n",
    "\n",
    "training_iterator = training_data_generator.flow_from_directory(\n",
    "    directory,\n",
    "    class_mode=class_mode,\n",
    "    color_mode=color_mode,\n",
    "    batch_size=batch_size\n",
    ")\n",
    "\n",
    "training_iterator.next()\n"
   ]
  },
  {
   "cell_type": "code",
   "execution_count": null,
   "id": "d7d481f7",
   "metadata": {},
   "outputs": [],
   "source": [
    "\n",
    "validation_data_generator = ImageDataGenerator(rescale = 1.0/255)\n",
    " \n",
    "validation_iterator = validation_data_generator.flow_from_directory(\n",
    "    directory,\n",
    "    class_mode=class_mode,\n",
    "    color_mode=color_mode,\n",
    "    batch_size=batch_size\n",
    ")\n"
   ]
  },
  {
   "cell_type": "code",
   "execution_count": null,
   "id": "5d094e97",
   "metadata": {},
   "outputs": [],
   "source": [
    "\n",
    "model = tf.keras.Sequential()\n",
    "\n",
    "\n",
    "model.add(tf.keras.Input(shape=(256, 256, 1)))\n",
    "\n",
    "model.add(layers.Conv2D(5, 5, strides=3, activation=\"relu\")) \n",
    "model.add(layers.MaxPooling2D(\n",
    "    pool_size=(2, 2), strides=(2,2)))\n",
    "model.add(layers.Conv2D(3, 3, strides=1, activation=\"relu\")) \n",
    "model.add(layers.MaxPooling2D(\n",
    "    pool_size=(2, 2), strides=(2,2)))\n",
    "\n",
    "model.add(tf.keras.layers.Flatten())\n",
    "model.add(tf.keras.layers.Dense(3,activation=\"softmax\"))\n",
    "\n",
    "\n",
    "model.summary()\n"
   ]
  },
  {
   "cell_type": "code",
   "execution_count": null,
   "id": "5d72d52a",
   "metadata": {},
   "outputs": [],
   "source": [
    "\n",
    "model.compile(\n",
    "   optimizer=tf.keras.optimizers.Adam(learning_rate=0.005),\n",
    "   loss=tf.keras.losses.CategoricalCrossentropy(),\n",
    "   metrics=[tf.keras.metrics.CategoricalAccuracy(),tf.keras.metrics.AUC()]\n",
    ")\n"
   ]
  },
  {
   "cell_type": "code",
   "execution_count": null,
   "id": "a5a2b0d4",
   "metadata": {},
   "outputs": [],
   "source": [
    "\n",
    "history = model.fit(\n",
    "       training_iterator,\n",
    "       steps_per_epoch=training_iterator.samples/batch_size,\n",
    "       epochs=5,\n",
    "       validation_data=validation_iterator,\n",
    "       validation_steps=validation_iterator.samples/batch_size\n",
    ")\n"
   ]
  }
 ],
 "metadata": {
  "kernelspec": {
   "display_name": "Python 3",
   "language": "python",
   "name": "python3"
  },
  "language_info": {
   "codemirror_mode": {
    "name": "ipython",
    "version": 3
   },
   "file_extension": ".py",
   "mimetype": "text/x-python",
   "name": "python",
   "nbconvert_exporter": "python",
   "pygments_lexer": "ipython3",
   "version": "3.8.8"
  }
 },
 "nbformat": 4,
 "nbformat_minor": 5
}
